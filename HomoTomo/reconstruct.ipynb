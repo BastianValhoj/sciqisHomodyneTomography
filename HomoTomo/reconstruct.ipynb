{
 "cells": [
  {
   "cell_type": "code",
   "execution_count": 3,
   "id": "de21c9a0",
   "metadata": {},
   "outputs": [],
   "source": [
    "import qutip as qt\n",
    "import numpy as np\n",
    "import matplotlib.pyplot as plt\n",
    "import scipy.stats as stats\n",
    "import scipy.integrate as integrate\n",
    "\n",
    "from tqdm.notebook import trange, tqdm\n",
    "import pickle\n",
    "import time\n",
    "from itertools import product\n",
    "# from skimage.transform import iradon\n"
   ]
  },
  {
   "cell_type": "code",
   "execution_count": 4,
   "id": "d526a4f4",
   "metadata": {},
   "outputs": [
    {
     "data": {
      "application/vnd.jupyter.widget-view+json": {
       "model_id": "efbe2dd70c284e96989ebaf3d89e87ca",
       "version_major": 2,
       "version_minor": 0
      },
      "text/plain": [
       "Outer loop:   0%|           0/3 [00:00<?, ?it/s]"
      ]
     },
     "metadata": {},
     "output_type": "display_data"
    },
    {
     "data": {
      "application/vnd.jupyter.widget-view+json": {
       "model_id": "0d27da82845f499e82403920df95e8b9",
       "version_major": 2,
       "version_minor": 0
      },
      "text/plain": [
       "Inner loop 0:   0%|          | 0/3 [00:00<?, ?it/s]"
      ]
     },
     "metadata": {},
     "output_type": "display_data"
    },
    {
     "data": {
      "application/vnd.jupyter.widget-view+json": {
       "model_id": "5e78938dcdbe4603abbc1d86be409c16",
       "version_major": 2,
       "version_minor": 0
      },
      "text/plain": [
       "Nested loop 0.0:   0%|          | 0/5 [00:00<?, ?it/s]"
      ]
     },
     "metadata": {},
     "output_type": "display_data"
    },
    {
     "data": {
      "application/vnd.jupyter.widget-view+json": {
       "model_id": "bccaed9a60b148c1b7db243265f8d33c",
       "version_major": 2,
       "version_minor": 0
      },
      "text/plain": [
       "Nested loop 0.1:   0%|          | 0/5 [00:00<?, ?it/s]"
      ]
     },
     "metadata": {},
     "output_type": "display_data"
    },
    {
     "data": {
      "application/vnd.jupyter.widget-view+json": {
       "model_id": "f8e4f16f7c9b46ab8f160e659e5b8f07",
       "version_major": 2,
       "version_minor": 0
      },
      "text/plain": [
       "Nested loop 0.2:   0%|          | 0/5 [00:00<?, ?it/s]"
      ]
     },
     "metadata": {},
     "output_type": "display_data"
    },
    {
     "data": {
      "application/vnd.jupyter.widget-view+json": {
       "model_id": "cc684b34d04844ecb07acb14798b1186",
       "version_major": 2,
       "version_minor": 0
      },
      "text/plain": [
       "Inner loop 1:   0%|          | 0/3 [00:00<?, ?it/s]"
      ]
     },
     "metadata": {},
     "output_type": "display_data"
    },
    {
     "data": {
      "application/vnd.jupyter.widget-view+json": {
       "model_id": "0ede33316ac44684aa253e00d68b9620",
       "version_major": 2,
       "version_minor": 0
      },
      "text/plain": [
       "Nested loop 1.0:   0%|          | 0/5 [00:00<?, ?it/s]"
      ]
     },
     "metadata": {},
     "output_type": "display_data"
    },
    {
     "data": {
      "application/vnd.jupyter.widget-view+json": {
       "model_id": "78e31e2923e849428f036b4061b8ace6",
       "version_major": 2,
       "version_minor": 0
      },
      "text/plain": [
       "Nested loop 1.1:   0%|          | 0/5 [00:00<?, ?it/s]"
      ]
     },
     "metadata": {},
     "output_type": "display_data"
    },
    {
     "data": {
      "application/vnd.jupyter.widget-view+json": {
       "model_id": "cf9a596008964fd9b6e334cd4eff1d60",
       "version_major": 2,
       "version_minor": 0
      },
      "text/plain": [
       "Nested loop 1.2:   0%|          | 0/5 [00:00<?, ?it/s]"
      ]
     },
     "metadata": {},
     "output_type": "display_data"
    },
    {
     "data": {
      "application/vnd.jupyter.widget-view+json": {
       "model_id": "49676a3d2fb34507990bc7a62cfa2665",
       "version_major": 2,
       "version_minor": 0
      },
      "text/plain": [
       "Inner loop 2:   0%|          | 0/3 [00:00<?, ?it/s]"
      ]
     },
     "metadata": {},
     "output_type": "display_data"
    },
    {
     "data": {
      "application/vnd.jupyter.widget-view+json": {
       "model_id": "363c28f080e6439bbfc5b8f402541adb",
       "version_major": 2,
       "version_minor": 0
      },
      "text/plain": [
       "Nested loop 2.0:   0%|          | 0/5 [00:00<?, ?it/s]"
      ]
     },
     "metadata": {},
     "output_type": "display_data"
    },
    {
     "data": {
      "application/vnd.jupyter.widget-view+json": {
       "model_id": "b8381c78a69c47e092452483243192a6",
       "version_major": 2,
       "version_minor": 0
      },
      "text/plain": [
       "Nested loop 2.1:   0%|          | 0/5 [00:00<?, ?it/s]"
      ]
     },
     "metadata": {},
     "output_type": "display_data"
    },
    {
     "data": {
      "application/vnd.jupyter.widget-view+json": {
       "model_id": "cd71f8a92d8b4805b772371d7605d172",
       "version_major": 2,
       "version_minor": 0
      },
      "text/plain": [
       "Nested loop 2.2:   0%|          | 0/5 [00:00<?, ?it/s]"
      ]
     },
     "metadata": {},
     "output_type": "display_data"
    }
   ],
   "source": [
    "for i in trange(3, desc=\"Outer loop\", bar_format=\"{l_bar}{bar} {n_fmt}/{total_fmt} [{elapsed}<{remaining}, {rate_fmt}]\"):\n",
    "    for j in trange(3, desc=f\"Inner loop {i}\", leave=False):\n",
    "        for k in trange(5, desc=f\"Nested loop {i}.{j}\", leave=False):\n",
    "            # Simulate some work\n",
    "            time.sleep(0.1)"
   ]
  },
  {
   "cell_type": "code",
   "execution_count": 5,
   "id": "fcad76ca",
   "metadata": {},
   "outputs": [],
   "source": [
    "# helpter functions to format strings\n",
    "def format_complex(val):\n",
    "    \"\"\"    Format a complex number into a string representation.\n",
    "\n",
    "    Args:\n",
    "        val (complex): The complex number to format.\n",
    "\n",
    "    Returns:\n",
    "        outstr (str): A string representation of the complex number, formatted to two decimal places.\n",
    "        If the real part is zero, it will only show the imaginary part. If both parts are zero, it returns \"0\". \n",
    "        The imaginary part is prefixed with '+' or '-' depending on its sign.\n",
    "        The output is padded with spaces on both sides.\n",
    "    \"\"\"\n",
    "    outstr = \"\"\n",
    "    real_part = val.real\n",
    "    imag_part = val.imag\n",
    "    if real_part != 0:\n",
    "        outstr += f\"{real_part:.2f}\"\n",
    "    if imag_part != 0:\n",
    "        if imag_part > 0:\n",
    "            outstr += f\"+{imag_part:.2f}j\"\n",
    "        else:\n",
    "            outstr += f\"-{abs(imag_part):.2f}j\"\n",
    "    return \" \" + outstr + \" \" if outstr else \"0\""
   ]
  },
  {
   "cell_type": "markdown",
   "id": "70e3bb0a",
   "metadata": {},
   "source": [
    "# Reconstruction"
   ]
  },
  {
   "cell_type": "markdown",
   "id": "a9f67b5f",
   "metadata": {},
   "source": [
    "### TO DO:\n",
    "- make reconstruction \n",
    "- compute fidelity\n",
    "- compare different estimators (MLE, etc.)\n",
    "- compare using different number of angles -- currently using 6 angles in $[0, \\frac{5\\pi}{6}]$\n",
    "- compare using different binning for $X_\\theta$"
   ]
  },
  {
   "cell_type": "markdown",
   "id": "bfb419aa",
   "metadata": {},
   "source": [
    "## Read data"
   ]
  },
  {
   "cell_type": "code",
   "execution_count": 6,
   "id": "95bddada",
   "metadata": {},
   "outputs": [
    {
     "name": "stdout",
     "output_type": "stream",
     "text": [
      "      thetas: [0.    0.    0.    0.    0.    0.    0.    0.    0.    0.    ... 2.618 2.618 2.618 2.618 2.618 2.618 2.618 2.618 2.618 2.618]\n",
      "measurements: [0. 0. 0. 0. 0. 0. 0. 0. 0. 0. ... 0. 0. 0. 0. 0. 0. 0. 0. 0. 0.]\n"
     ]
    },
    {
     "name": "stderr",
     "output_type": "stream",
     "text": [
      "'cat' is not recognized as an internal or external command,\n",
      "operable program or batch file.\n"
     ]
    }
   ],
   "source": [
    "data = np.load(\"measurements.npz\")\n",
    "thetas = data[\"thetas\"]\n",
    "measurements = data[\"measurements\"]\n",
    "\n",
    "with np.printoptions(precision=3, linewidth=150, edgeitems=10, suppress=True):\n",
    "    print(\"      thetas:\", thetas)\n",
    "    print(\"measurements:\", measurements)\n",
    "\n",
    "# display metadata using bash command\n",
    "!cat measurements_metadata.txt\n"
   ]
  },
  {
   "cell_type": "markdown",
   "id": "41126221",
   "metadata": {},
   "source": [
    "## Background\n",
    "The homodyne tomography experiment gives a set of data $(X_\\theta, \\theta)$  -- see [A. I. Lvovsky](../references/RevModPhys.81.299.pdf)\n",
    "\n",
    "The data is generated in the [generateState notebook](generateState.ipynb) and save to the [data file](measurements.npz) and the [meta data file](measurements_metadata.txt)"
   ]
  },
  {
   "cell_type": "markdown",
   "id": "b716ef22",
   "metadata": {},
   "source": [
    "### Radon transform"
   ]
  },
  {
   "cell_type": "code",
   "execution_count": 7,
   "id": "034df425",
   "metadata": {},
   "outputs": [],
   "source": [
    "def inverse_radon(X, theta, xmax=10, pmax=10, res=101):\n",
    "    \n",
    "    x = np.linspace(-xmax, xmax, res)\n",
    "    p = np.linspace(-pmax, pmax, res)\n",
    "    X, P = np.meshgrid(x, p)\n",
    "\n",
    "    N = len(X)\n",
    "    norm = 1/(2*np.pi**2*N)\n",
    "    \n",
    "    pass"
   ]
  },
  {
   "cell_type": "markdown",
   "id": "7a29f044",
   "metadata": {},
   "source": [
    "### Reconstruction using Maximum Likelihood Estimator \n",
    "Based on [A. I. Lvovsky - section III.B](../references/RevModPhys.81.299.pdf)"
   ]
  },
  {
   "cell_type": "markdown",
   "id": "3d503f2c",
   "metadata": {},
   "source": [
    "The probability of measuring $j$ from a density matrix $\\hat{\\rho}$ is $\\mathrm{P}_\\rho(j) = \\mathrm{Tr}\\left[\\hat{\\Pi}_j\\hat{\\rho}\\right]$ where $\\hat{\\rho}$ is the maximum "
   ]
  },
  {
   "cell_type": "code",
   "execution_count": 30,
   "id": "444bd40b",
   "metadata": {},
   "outputs": [
    {
     "data": {
      "application/vnd.jupyter.widget-view+json": {
       "model_id": "8bd3d29c300f46c8b8c2c64021658a43",
       "version_major": 2,
       "version_minor": 0
      },
      "text/plain": [
       "Building bins:   0%|          | 0/1212 [00:00<?, ?it/s]"
      ]
     },
     "metadata": {},
     "output_type": "display_data"
    },
    {
     "data": {
      "text/plain": [
       "(1212, 60, 61, 1212, 50, 50)"
      ]
     },
     "execution_count": 30,
     "metadata": {},
     "output_type": "execute_result"
    }
   ],
   "source": [
    "def quadrature_operator(N : int = 50, theta : float = 0.0) -> qt.Qobj:\n",
    "    \"\"\"Generate the quadrature operator for a given angle theta.\n",
    "\n",
    "    Args:\n",
    "        N (int): Dimension of the truncated Hilbert space.\n",
    "        theta (float): Angle in radians for the quadrature operator.\n",
    "    Returns:\n",
    "        qt.Qobj: The quadrature operator corresponding to the angle theta.\n",
    "    \"\"\"\n",
    "    a = qt.destroy(N)\n",
    "    term = a * np.exp(-1j * theta)\n",
    "    \n",
    "    return (term + term.dag()) / np.sqrt(2)\n",
    "        \n",
    "\n",
    "def build_bins(N, thetas, n_bins=60, x_edges=None, tol=1e-12):\n",
    "    \"\"\"Build bins for the quadrature operator eigenstates based on the provided angles.\n",
    "\n",
    "    Args:\n",
    "        N (int): Dimension of the Hilbert space.\n",
    "        thetas (ndarray): Array of angles in radians for which to compute the quadrature operators.\n",
    "        n_bins (int, optional): Number of bins to create for the eigenvalues. Defaults to 60.\n",
    "        x_edges (ndarray, optional): Edges for the bins. If `None`, they will be calculated based on the eigenvalues. \n",
    "\n",
    "    Returns:\n",
    "        povms: List of POVMs (Positive Operator-Valued Measures) corresponding to the quadrature operators.\n",
    "        x_edges: Edges of the bins.\n",
    "        spectra: List of eigenvalues and eigenvectors for each quadrature operator. \n",
    "    \"\"\"\n",
    "    spectra = [quadrature_operator(N, theta).eigenstates() for theta in thetas]\n",
    "    if x_edges is None: # If no edges are provided, calculate them based on the eigenvalues\n",
    "        # Find the minimum and maximum eigenvalues across all spectra\n",
    "        xmin = min(e.min() for e, _ in spectra)\n",
    "        xmax = max(e.max() for e, _ in spectra) \n",
    "        pad = 1e-9 # Padding to avoid numerical issues\n",
    "        x_edges = np.linspace(xmin - pad, xmax + pad, n_bins + 1) \n",
    "    \n",
    "    povms = [] \n",
    "    for evals, evecs in tqdm(spectra, desc=\"Building bins\", total=len(spectra)): \n",
    "        bin_indices = np.digitize(evals, x_edges) - 1  # -1 to convert to zero-based index\n",
    "        E_bins = [qt.Qobj(np.zeros((N,N), dtype=np.complex128)) for _ in range(n_bins)] # Initialize bins with zero matrices\n",
    "        # Fill the bins with the eigenvectors\n",
    "        for i, bin in enumerate(bin_indices):\n",
    "            if bin < 0: bin = 0 # Ensure bin index is within bounds\n",
    "            if bin >= n_bins: bin = n_bins - 1 # Ensure bin index is within bounds\n",
    "            E_bins[bin] += evecs[i] * evecs[i].dag() \n",
    "        povms.append(E_bins)\n",
    "    return povms, x_edges, spectra\n",
    "\n",
    "povms, edges, spectra = build_bins(N=50, thetas=thetas, n_bins=60)\n",
    "len(povms), len(povms[0]), len(edges), len(spectra), len(spectra[0][0]), len(spectra[0][1])"
   ]
  },
  {
   "cell_type": "code",
   "execution_count": 17,
   "id": "718bebe2",
   "metadata": {},
   "outputs": [
    {
     "data": {
      "text/plain": [
       "((1212, 60), np.int64(6), np.int64(4))"
      ]
     },
     "execution_count": 17,
     "metadata": {},
     "output_type": "execute_result"
    }
   ],
   "source": [
    "def bin_samples(samples, thetas, x_edges, tol=1e-9):\n",
    "    \"\"\"This function takes samples and thetas, and bins them into quadrature bins defined by x_edges.\n",
    "\n",
    "    Args:\n",
    "        samples (ndarray): Array of samples to be binned.\n",
    "        thetas (ndarray): Array of angles corresponding to the quadrature measurements.\n",
    "        x_edges (ndarray): Edges of the bins for the quadrature measurements.\n",
    "        tol (flaot, optional): tolerance. Defaults to 1e-9.\n",
    "    Returns:\n",
    "        counts (ndarray): 2D array where each row corresponds to a theta and each column corresponds to a bin defined by x_edges. The values are the counts of samples in each bin.\n",
    "    Raises:\n",
    "        ValueError: If any angle in `thetas` is not close to the corresponding angle in `thetas` within the specified tolerance.\n",
    "    \"\"\"\n",
    "    \n",
    "    thetas = np.asarray(thetas)\n",
    "    n_thetas = len(thetas)\n",
    "    n_bins = len(x_edges) - 1\n",
    "    counts = np.zeros((n_thetas, n_bins), dtype=int)\n",
    "    \n",
    "    for X, th in zip(samples, thetas):\n",
    "        # Find the bin index for each sample\n",
    "        idx = np.argmin(np.abs(thetas - th))\n",
    "        if np.abs(th - thetas[idx]) > tol:\n",
    "            raise ValueError(f\"Angle {th} not close to any theta in thetas. Found {thetas[idx]} instead.\")\n",
    "        \n",
    "        # Digitize the samples into bins\n",
    "        bin_indices = np.digitize(X, x_edges) - 1\n",
    "        b = np.clip(bin_indices, 0, n_bins - 1)  # Ensure indices are within bounds\n",
    "        counts[idx, b] += 1  # Increment the count for the corresponding bin\n",
    "    return counts\n",
    "\n",
    "counts = bin_samples(measurements, thetas, edges)\n",
    "counts.shape, (counts.sum(axis=1) > 0).sum(), (counts.sum(axis=0) > 0).sum()\n"
   ]
  },
  {
   "cell_type": "code",
   "execution_count": null,
   "id": "bafcde63",
   "metadata": {},
   "outputs": [],
   "source": [
    "def update_density_matrix(rho, R):\n",
    "    \"\"\"Update the density matrix using the MLE formula.\"\"\"\n",
    "    updated_rho = R * rho * R\n",
    "    updated_rho = updated_rho / updated_rho.tr()  # Normalize the updated density matrix\n",
    "    return updated_rho\n",
    "\n",
    "def prob(rho, povm):\n",
    "    \"\"\"Construct the P from the density matrix rho and POVMs.\"\"\"\n",
    "    return np.real((rho * povm).tr())"
   ]
  },
  {
   "cell_type": "code",
   "execution_count": null,
   "id": "c3309fc5",
   "metadata": {},
   "outputs": [],
   "source": [
    "def MLE_binned(X, thetas, N=50, num_bins=60, max_iters=10, tol=1e-9):\n",
    "    bins, x_edges, spectra = build_bins(N, thetas, n_bins=num_bins)\n",
    "    n_thetas = len(thetas)\n",
    "    "
   ]
  },
  {
   "cell_type": "code",
   "execution_count": 19,
   "id": "732d461d",
   "metadata": {},
   "outputs": [],
   "source": [
    "# def MLE_binned(counts, povms, n_iter=100, eps=1e-12, verbose=True):\n",
    "#     \"\"\"Maximum Likelihood Estimation for binned measurements.\n",
    "\n",
    "#     Args:\n",
    "#         counts (ndarray): Binned counts of measurements.\n",
    "#         povms (list): List of POVM operators for each bin.\n",
    "#         n_iter (int, optional): Number of iterations for the MLE algorithm. Defaults to 100.\n",
    "#         eps (float, optional): Small value to avoid division by zero. Defaults to 1e-12.\n",
    "#         verbose (bool, optional): If True, print progress. Defaults to False.\n",
    "#     \"\"\"\n",
    "#     n_thetas, n_bins = counts.shape\n",
    "#     N = povms[0][0].shape[0]  # Dimension of the Hilbert space\n",
    "#     rho = qt.qeye(N) / N  # Initial guess: uniform density matrix\n",
    "#     tot = counts.sum()  # Total number of counts across all bins\n",
    "#     like_history = [] # Store likelihood history for convergence analysis\n",
    "#     if verbose:\n",
    "#         print(f\"Starting MLE with {n_iter} iterations and {tot} total counts.\")\n",
    "#     # Iterate to update the density matrix\n",
    "\n",
    "#     for _ in trange(n_iter, desc=\"MLE Iterations\"):\n",
    "#         # P = np.zeros_like(counts, dtype=float)  # Initialize the probability matrix\n",
    "#         # for t in tqdm(range(n_thetas), desc=\"Theta Loop\", leave=False):\n",
    "#         #     # Calculate the probabilities for each bin using the POVMs\n",
    "#         #     for b in tqdm(range(n_bins), desc=\"Bin Loop\", leave=False):\n",
    "#         #         P[t, b] = np.real((rho * povms[t][b]).tr())  # Calculate the probability for each bin\n",
    "#         # P = np.maximum(P, eps)  # Avoid division by zero\n",
    "        \n",
    "#         # Update the density matrix using the counts and probabilities\n",
    "#         R = qt.Qobj(np.zeros((N,N), dtype=np.complex128), dims=[[N], [N]])\n",
    "#         for t in trange(n_thetas, desc=\"Theta Loop\", leave=False):\n",
    "#             for b in trange(n_bins, desc=\"Bin Loop\", leave=False):\n",
    "#                 if counts[t, b] > 0:\n",
    "#                     P = np.clip(a=prob(rho, povms[t][b]), a_min=eps, a_max=None)\n",
    "#                     R += counts[t, b] * povms[t][b] / P\n",
    "#         R = R / tot  # Normalize the operator\n",
    "#         rho = update_density_matrix(rho, R)\n",
    "#         # ll = np.sum(counts * np.log(P))\n",
    "#         # like_history.append(ll)\n",
    "#     return rho, np.array(like_history)\n",
    "\n",
    "# rho, hist = MLE_binned(counts=counts, povms=povms, n_iter=10, eps=1e-12, verbose=True)"
   ]
  }
 ],
 "metadata": {
  "kernelspec": {
   "display_name": "sciqisHomodyneTomography",
   "language": "python",
   "name": "python3"
  },
  "language_info": {
   "codemirror_mode": {
    "name": "ipython",
    "version": 3
   },
   "file_extension": ".py",
   "mimetype": "text/x-python",
   "name": "python",
   "nbconvert_exporter": "python",
   "pygments_lexer": "ipython3",
   "version": "3.13.6"
  }
 },
 "nbformat": 4,
 "nbformat_minor": 5
}
