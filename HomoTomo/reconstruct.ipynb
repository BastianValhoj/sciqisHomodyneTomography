{
 "cells": [
  {
   "cell_type": "code",
   "execution_count": 4,
   "id": "de21c9a0",
   "metadata": {},
   "outputs": [],
   "source": [
    "import qutip as qt\n",
    "import numpy as np\n",
    "import matplotlib.pyplot as plt\n",
    "import scipy.stats as stats\n",
    "import scipy.integrate as integrate\n",
    "\n",
    "from tqdm.notebook import trange, tqdm\n",
    "import pickle\n"
   ]
  },
  {
   "cell_type": "markdown",
   "id": "70e3bb0a",
   "metadata": {},
   "source": [
    "# Reconstruction"
   ]
  },
  {
   "cell_type": "markdown",
   "id": "a9f67b5f",
   "metadata": {},
   "source": [
    "### TO DO:\n",
    "- make reconstruction \n",
    "- compute fidelity\n",
    "- compare different estimators (MLE, etc.)\n",
    "- compare using different number of angles -- currently using 6 angles in $[0, \\frac{5\\pi}{6}]$\n",
    "- compare using different binning for $X_\\theta$"
   ]
  },
  {
   "cell_type": "markdown",
   "id": "bfb419aa",
   "metadata": {},
   "source": [
    "## Read data"
   ]
  },
  {
   "cell_type": "code",
   "execution_count": 21,
   "id": "95bddada",
   "metadata": {},
   "outputs": [
    {
     "name": "stdout",
     "output_type": "stream",
     "text": [
      "      thetas: [0.    0.    0.    0.    0.    0.    0.    0.    0.    0.    ... 2.618 2.618 2.618 2.618 2.618 2.618 2.618 2.618 2.618 2.618]\n",
      "measurements: [0. 0. 0. 0. 0. 0. 0. 0. 0. 0. ... 0. 0. 0. 0. 0. 0. 0. 0. 0. 0.]\n",
      "state_type,cat\n",
      "parity,odd\n",
      "alpha,(-6+6j)\n",
      "thetas,[0.0, 0.5235987755982988, 1.0471975511965976, 1.5707963267948966, 2.0943951023931953, 2.617993877991494]\n"
     ]
    }
   ],
   "source": [
    "data = np.load(\"measurements.npz\")\n",
    "thetas = data[\"thetas\"]\n",
    "measurements = data[\"measurements\"]\n",
    "\n",
    "with np.printoptions(precision=3, linewidth=150, edgeitems=10, suppress=True):\n",
    "    print(\"      thetas:\", thetas)\n",
    "    print(\"measurements:\", measurements)\n",
    "\n",
    "# display metadata using bash command\n",
    "!cat measurements_metadata.txt\n"
   ]
  },
  {
   "cell_type": "markdown",
   "id": "41126221",
   "metadata": {},
   "source": [
    "## Background\n",
    "The homodyne tomography experiment gives a set of data $(X_\\theta, \\theta)$  -- see [A. I. Lvovsky](../references/RevModPhys.81.299.pdf)\n",
    "\n",
    "The data is generated in the [generateState notebook](generateState.ipynb) and save to the [data file](measurements.npz) and the [meta data file](measurements_metadata.txt)"
   ]
  },
  {
   "cell_type": "code",
   "execution_count": 22,
   "id": "034df425",
   "metadata": {},
   "outputs": [],
   "source": [
    "def inverse_radon(X, theta, xmax=10, pmax=10, res=101):\n",
    "    \n",
    "    x = np.linspace(-xmax, xmax, res)\n",
    "    p = np.linspace(-pmax, pmax, res)\n",
    "    X, P = np.meshgrid(x, p)\n",
    "\n",
    "    N = len(X)\n",
    "    norm = 1/(2*np.pi**2*N)\n",
    "    \n",
    "    pass"
   ]
  },
  {
   "cell_type": "markdown",
   "id": "7a29f044",
   "metadata": {},
   "source": [
    "### Reconstruction using Maximum Likelihood Estimator \n",
    "Based on [A. I. Lvovsky - section III.B](../references/RevModPhys.81.299.pdf)"
   ]
  },
  {
   "cell_type": "markdown",
   "id": "3d503f2c",
   "metadata": {},
   "source": [
    "The probability of measuring $j$ from a density matrix $\\hat{\\rho}$ is $\\mathrm{P}_\\rho(j) = \\Tr\\left[\\hat{\\Pi}_j\\hat{\\rho}\\right]$"
   ]
  },
  {
   "cell_type": "code",
   "execution_count": null,
   "id": "444bd40b",
   "metadata": {},
   "outputs": [],
   "source": [
    "def MLE_reconstruction(measurements, thetas, N=100, **kwargs):\n",
    "    \"\"\"\n",
    "    Maximum Likelihood Estimation (MLE) for reconstructing the Wigner function.\n",
    "    \"\"\"\n",
    "    \n",
    "    xmax = kwargs.get('xmax', 8)\n",
    "    xmin = kwargs.get('xmin', -xmax)\n",
    "    \n",
    "    pmax = kwargs.get('pmax', 8)\n",
    "    pmin = kwargs.get('pmin', -pmax)\n",
    "    \n",
    "    x = np.linspace(xmin, xmax, N)\n",
    "    p = np.linspace(pmin, pmax, N)\n",
    "    X, P = np.meshgrid(x, p)\n",
    "\n",
    "    # Initialize Wigner function\n",
    "    W = np.zeros_like(X)\n",
    "\n",
    "    # Perform MLE reconstruction\n",
    "    for i, theta in enumerate(thetas):\n",
    "        X_theta = (X * np.cos(theta) + P * np.sin(theta)) / np.sqrt(2)\n",
    "        P_theta = (-X * np.sin(theta) + P * np.cos(theta)) / np.sqrt(2)\n",
    "        W += measurements[i] * stats.norm.pdf(X_theta) * stats.norm.pdf(P_theta)\n",
    "\n",
    "    return X, P, W"
   ]
  }
 ],
 "metadata": {
  "kernelspec": {
   "display_name": "HomodyneTomography",
   "language": "python",
   "name": "python3"
  },
  "language_info": {
   "codemirror_mode": {
    "name": "ipython",
    "version": 3
   },
   "file_extension": ".py",
   "mimetype": "text/x-python",
   "name": "python",
   "nbconvert_exporter": "python",
   "pygments_lexer": "ipython3",
   "version": "3.13.5"
  }
 },
 "nbformat": 4,
 "nbformat_minor": 5
}
